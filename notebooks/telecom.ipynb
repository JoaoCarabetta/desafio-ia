{
 "cells": [
  {
   "cell_type": "markdown",
   "metadata": {},
   "source": [
    "### O Caso Telecom\n",
    "\n",
    "Foi realizado um trabalho muito semelhante ao anterior, nos processos relacionados a Telecomunicações. \n",
    "\n",
    "Porém, como nosso estagiário é muito organizado, ele nos deu de bandeja uma tabela com termos que ele mesmo identificou como muito importantes nas Decisões e Sentenças que foram separadas - classificando em ordem por cada uma dessas classes. Segue a tabela:\n",
    "\n",
    "```\n",
    "    Termos                          Classe\n",
    "1   Com: combo, pacote              Pacote de Serviços ( Combo )\n",
    "\n",
    "2   Com: fixa, banda larga,         Telefonia Fixa\n",
    "    velox, modem\n",
    "    Sem: internet e combo\n",
    "3   Com: fixa                       Internet Fixa\n",
    "\n",
    "4   Com: pré-pago                   Telefonia Móvel Pré-paga\n",
    "    Sem: TV por assinatura\n",
    "\n",
    "5   Com: TV, assinatura, canais     TV por Assinatura\n",
    "    Sem: Combo\n",
    "\n",
    "6   Com: pacote de dados, 3G e      Internet Móvel\n",
    "    4G\n",
    "\n",
    "7   Com: celular, telefone          Telefonia Móvel Pós-paga\n",
    "    móvel\n",
    "```\n",
    "\n",
    "Utilizando esta tabela e tentando classificar cada um desses documentos seguindo a ordem informada, ele está conseguindo classificar dezenas de documentos.\n",
    "\n",
    "Mas queremos atingir os milhares!\n",
    "\n",
    "1 - Você consegue pensar em um processo para separar documentos em pastas como no exercício anterior?\n",
    "\n",
    "Apesar de muito esforçado, não é possível identificar com facilidade muitas outras classes, nosso estagiário é apenas um ser humano! Entendemos suas limitações.\n",
    "\n",
    "Após esse processo de filtragem, foi produzido junto uma enorme massa de documentos que não foram classificados em nenhuma dessas categorias.\n",
    "\n",
    "2 - Implemente um método de Machine Learning que consiga identificar possíveis novos tópicos e os termos que os identificam.\n",
    "Demonstre seus testes, erros, acertos e precisão.\n",
    "\n",
    "<hr>\n"
   ]
  },
  {
   "cell_type": "markdown",
   "metadata": {},
   "source": [
    "## Resposta\n",
    "\n",
    "Não tive tempo de implementar o modelo. \n",
    "\n",
    "O que eu iria fazer:\n",
    "\n",
    "1. Essa parte é fácil dado que existe um modelo.\n",
    "\n",
    "2. Esse é um problema não supervisionado. Portanto, podemos fazer o tratamento padrão dos dados e criar um glossário de palavras irrelevantes no judiciário. Então, fazer um método LDA para encontrar grupos similares de palavras.\n",
    "\n",
    "Outra opção é usar W2V para, então, clusterizar os documentos no espaço. é possível usar uma variação, Doc2Vec, orientada à documentos."
   ]
  },
  {
   "cell_type": "code",
   "execution_count": null,
   "metadata": {},
   "outputs": [],
   "source": []
  }
 ],
 "metadata": {
  "kernelspec": {
   "display_name": "Python 3",
   "language": "python",
   "name": "python3"
  },
  "language_info": {
   "codemirror_mode": {
    "name": "ipython",
    "version": 3
   },
   "file_extension": ".py",
   "mimetype": "text/x-python",
   "name": "python",
   "nbconvert_exporter": "python",
   "pygments_lexer": "ipython3",
   "version": "3.6.2"
  }
 },
 "nbformat": 4,
 "nbformat_minor": 2
}
