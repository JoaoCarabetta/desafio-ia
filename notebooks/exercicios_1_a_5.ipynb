{
 "cells": [
  {
   "cell_type": "markdown",
   "metadata": {},
   "source": [
    "# Exercícios de 1 a 5"
   ]
  },
  {
   "cell_type": "markdown",
   "metadata": {},
   "source": [
    "1 - Enquanto `N` é um inteiro positivo, considere a função `f(n)`, que satisfaz as seguintes sentenças:\n",
    "\n",
    "```\n",
    "f(0) = 0\n",
    "f(1) = 1\n",
    "f(n) = f(n-1) + f(n-2)\n",
    "```\n",
    "\n",
    "Crie um programa que determine `f(n)`."
   ]
  },
  {
   "cell_type": "code",
   "execution_count": 12,
   "metadata": {},
   "outputs": [],
   "source": [
    "# https://stackoverflow.com/questions/47564765/how-to-make-this-recursive-function-faster-in-python-or-java\n",
    "\n",
    "def f_all(n):\n",
    "    \n",
    "    res = (n+1)*[0]\n",
    "    res[1] = 1\n",
    "    for i in range(2, n+1):\n",
    "        res[i] = res[i-1] + res[i-2]\n",
    "    return res[-1]"
   ]
  },
  {
   "cell_type": "markdown",
   "metadata": {},
   "source": [
    "----------------"
   ]
  },
  {
   "cell_type": "markdown",
   "metadata": {},
   "source": [
    "2 - Utilize o programa anterior para calcular `f(10000)`. Estime a complexidade do algoritmo.\n",
    "\n",
    "Complexidade:\n",
    "\n",
    "São n iterações, onde cada uma a lista precisa ser acessada. Como a lista do python é uma linked-list então o custo de acesso é n. Portanto, o algorítimo é O($n^2$)."
   ]
  },
  {
   "cell_type": "code",
   "execution_count": 11,
   "metadata": {},
   "outputs": [
    {
     "data": {
      "text/plain": [
       "33644764876431783266621612005107543310302148460680063906564769974680081442166662368155595513633734025582065332680836159373734790483865268263040892463056431887354544369559827491606602099884183933864652731300088830269235673613135117579297437854413752130520504347701602264758318906527890855154366159582987279682987510631200575428783453215515103870818298969791613127856265033195487140214287532698187962046936097879900350962302291026368131493195275630227837628441540360584402572114334961180023091208287046088923962328835461505776583271252546093591128203925285393434620904245248929403901706233888991085841065183173360437470737908552631764325733993712871937587746897479926305837065742830161637408969178426378624212835258112820516370298089332099905707920064367426202389783111470054074998459250360633560933883831923386783056136435351892133279732908133732642652633989763922723407882928177953580570993691049175470808931841056146322338217465637321248226383092103297701648054726243842374862411453093812206564914032751086643394517512161526545361333111314042436854805106765843493523836959653428071768775328348234345557366719731392746273629108210679280784718035329131176778924659089938635459327894523777674406192240337638674004021330343297496902028328145933418826817683893072003634795623117103101291953169794607632737589253530772552375943788434504067715555779056450443016640119462580972216729758615026968443146952034614932291105970676243268515992834709891284706740862008587135016260312071903172086094081298321581077282076353186624611278245537208532365305775956430072517744315051539600905168603220349163222640885248852433158051534849622434848299380905070483482449327453732624567755879089187190803662058009594743150052402532709746995318770724376825907419939632265984147498193609285223945039707165443156421328157688908058783183404917434556270520223564846495196112460268313970975069382648706613264507665074611512677522748621598642530711298441182622661057163515069260029861704945425047491378115154139941550671256271197133252763631939606902895650288268608362241082050562430701794976171121233066073310059947366875"
      ]
     },
     "execution_count": 11,
     "metadata": {},
     "output_type": "execute_result"
    }
   ],
   "source": [
    "f_all(10000)"
   ]
  },
  {
   "cell_type": "markdown",
   "metadata": {},
   "source": [
    "-------------------"
   ]
  },
  {
   "cell_type": "markdown",
   "metadata": {},
   "source": [
    "3 - Implemente um programa que liste todos os nós de um nível de uma árvore binária."
   ]
  },
  {
   "cell_type": "markdown",
   "metadata": {},
   "source": [
    "Você basicamente tem que fazer um BFS. \n",
    "\n",
    "1. Primeiro definimos uma classe que monta a Binary Tree. Adaptei de um código encontrado na referência.\n",
    "2. Depois, basta aplicar um BFS, salvar os resultados em uma lista e retornar os valores."
   ]
  },
  {
   "cell_type": "code",
   "execution_count": 24,
   "metadata": {},
   "outputs": [],
   "source": [
    "# https://www.tutorialspoint.com/python/python_binary_tree.htm\n",
    "class Node:\n",
    "\n",
    "    def __init__(self, data):\n",
    "\n",
    "        self.left = None\n",
    "        self.right = None\n",
    "        self.data = data\n",
    "\n",
    "    def insert(self, data):\n",
    "\n",
    "        if self.data:\n",
    "            if data < self.data:\n",
    "                if self.left is None:\n",
    "                    self.left = Node(data)\n",
    "                else:\n",
    "                    self.left.insert(data)\n",
    "            elif data > self.data:\n",
    "                if self.right is None:\n",
    "                    self.right = Node(data)\n",
    "                else:\n",
    "                    self.right.insert(data)\n",
    "        else:\n",
    "            self.data = data\n",
    "\n",
    "\n",
    "    def print_tree(self):\n",
    "        if self.left:\n",
    "            self.left.print_tree()\n",
    "        print( self.data),\n",
    "        if self.right:\n",
    "            self.right.print_tree()"
   ]
  },
  {
   "cell_type": "code",
   "execution_count": 74,
   "metadata": {},
   "outputs": [],
   "source": [
    "root = Node(1)\n",
    "root.insert(3)\n",
    "root.insert(2)\n",
    "root.insert(5)\n",
    "root.insert(4)"
   ]
  },
  {
   "cell_type": "code",
   "execution_count": 75,
   "metadata": {},
   "outputs": [
    {
     "name": "stdout",
     "output_type": "stream",
     "text": [
      "1\n",
      "2\n",
      "3\n",
      "4\n",
      "5\n"
     ]
    }
   ],
   "source": [
    "root.print_tree()"
   ]
  },
  {
   "cell_type": "code",
   "execution_count": 81,
   "metadata": {},
   "outputs": [],
   "source": [
    "# https://stackoverflow.com/questions/48535063/binary-tree-get-all-nodes-for-every-level\n",
    "\n",
    "# OBS: esse código foi um pouco inspirado na minha experiência com LISP. Ele faz bem mais sentido\n",
    "# para trabalhar com grafos.\n",
    "def get_nodes_at_level(root, level): \n",
    "    \n",
    "    def func(root, level):\n",
    "        if root is None:\n",
    "            return\n",
    "\n",
    "        if level >= len(list_of_lists):\n",
    "            level_list = []\n",
    "            list_of_lists.append(level_list)\n",
    "        list_of_lists[level].append(root.data)\n",
    "        func(root.left, level+1)\n",
    "        func(root.right, level+1)\n",
    "        \n",
    "    list_of_lists=[]\n",
    "    func(root, 0)\n",
    "    return list_of_lists[level]"
   ]
  },
  {
   "cell_type": "code",
   "execution_count": 79,
   "metadata": {},
   "outputs": [
    {
     "data": {
      "text/plain": [
       "[4]"
      ]
     },
     "execution_count": 79,
     "metadata": {},
     "output_type": "execute_result"
    }
   ],
   "source": [
    "get_nodes_at_level(root, 3)"
   ]
  },
  {
   "cell_type": "markdown",
   "metadata": {},
   "source": [
    "----------------------------"
   ]
  },
  {
   "cell_type": "markdown",
   "metadata": {},
   "source": [
    "4 - Você possui um site com um bilhão de usuários, cujos IDs são inteiros, positivos e sequenciais (de 1 até um bilhão).<br>\n",
    "O log de acesso do seu servidor no último mês tem 500GB, onde constam esses IDs.<br>\n",
    "Você quer saber quantos usuários únicos acessaram o site nesse período, mas sua máquina só tem 512 MB de memória.<br>\n",
    "Como você desenvolveria uma aplicação para esse fim sem usar ferramentas externas?\n"
   ]
  },
  {
   "cell_type": "markdown",
   "metadata": {},
   "source": [
    "Esse problema só apresenta limitações na memória RAM, portanto, não vou me preocupar com a velocidade. \n",
    "\n",
    "A solução mais simples é ler o arquivo de 500GB em chuncks que caibam na memória e comparar com um arquivo de usuários únicos.\n",
    "\n",
    "Supondo que o arquivo está em .txt e tem somente os ids, podemos gerar um para teste."
   ]
  },
  {
   "cell_type": "code",
   "execution_count": 83,
   "metadata": {},
   "outputs": [],
   "source": [
    "import random"
   ]
  },
  {
   "cell_type": "code",
   "execution_count": 100,
   "metadata": {},
   "outputs": [],
   "source": [
    "ids = [random.randint(1,1000000000) for x in range(100)]\n",
    "\n",
    "with open('ids.txt', 'w') as f:\n",
    "    for i in ids:\n",
    "        f.write(str(i) + '\\n')"
   ]
  },
  {
   "cell_type": "markdown",
   "metadata": {},
   "source": [
    "Aparentemente, para arquivos baseados em quebra de linha o python já carrega o arquivo em 'lazy mode'\n",
    "\n",
    "https://stackoverflow.com/questions/519633/lazy-method-for-reading-big-file-in-python\n",
    "\n",
    "Como carregar uma lista de ids únicos possívelmente 1 bi pode consumir até 8GB de RAM. Podemos separar em diversos arquivos que tenham no máximo 300MB (por segunrança). De 62.5 milhões em 62.5 milhões é suficiente, mas podemos diminuir esse número para aumentar a velocidade de busca. Então, vamos com 6.25 milhões de intervalo."
   ]
  },
  {
   "cell_type": "code",
   "execution_count": 110,
   "metadata": {},
   "outputs": [],
   "source": [
    "def check_if_exists(line):\n",
    "    \n",
    "    current_id = int(line)\n",
    "    file_name = str(int(round(current_id / 6250000, 0))) + '.txt'\n",
    "    \n",
    "    try:\n",
    "        for existent in open('unique_ids/' + file_name):\n",
    "            if current_id == int(existent):\n",
    "                return\n",
    "    except FileNotFoundError:\n",
    "        pass\n",
    "    \n",
    "    open('unique_ids/' + file_name, 'a').write(line)\n",
    "       \n",
    "for line in open('ids.txt'):\n",
    "    check_if_exists(line)"
   ]
  },
  {
   "cell_type": "markdown",
   "metadata": {},
   "source": [
    "Finalmente, podemos consolidar os arquivos usando bash."
   ]
  },
  {
   "cell_type": "code",
   "execution_count": 112,
   "metadata": {},
   "outputs": [],
   "source": [
    "!cd unique_ids; cat *.txt >> ../all_ids.txt"
   ]
  },
  {
   "cell_type": "markdown",
   "metadata": {},
   "source": [
    "Dessa forma, o máximo de memória usada será ditado pelo tamanho máximo do arquivo de unique_ids. Basta dividi-lo para suprir as limitações"
   ]
  },
  {
   "cell_type": "markdown",
   "metadata": {},
   "source": [
    "--------------------------"
   ]
  },
  {
   "cell_type": "markdown",
   "metadata": {},
   "source": [
    "5 - Recebemos recentemente um arquivo de texto com nomes de diversos procurados pela justiça no seguinte formato:\n",
    "\n",
    "```nome: Fulano da Silvanome: Beltrano José Pereira nome: Ciclano Feliciano Marcianonome: Ildo Vieira Pereiranome: João Ninguém nome: Fulaninha```\n",
    "\n",
    "Não é um dos melhores formatos de arquivo para se trabalhar, precisamos de uma solução!<br>\n",
    "Produza uma **Regex Python** que obtenha apenas os nomes completos "
   ]
  },
  {
   "cell_type": "markdown",
   "metadata": {},
   "source": [
    "Usando o exemplo da questão, temos:"
   ]
  },
  {
   "cell_type": "code",
   "execution_count": 114,
   "metadata": {},
   "outputs": [],
   "source": [
    "texto = 'nome: Fulano da Silvanome: Beltrano José Pereira nome: Ciclano Feliciano Marcianonome: Ildo Vieira Pereiranome: João Ninguém nome: Fulaninha'"
   ]
  },
  {
   "cell_type": "code",
   "execution_count": 119,
   "metadata": {},
   "outputs": [],
   "source": [
    "texto_tratado = [t.strip() for t in texto.split('nome: ') if len(t) > 0 ]"
   ]
  },
  {
   "cell_type": "code",
   "execution_count": 120,
   "metadata": {},
   "outputs": [
    {
     "data": {
      "text/plain": [
       "['Fulano da Silva',\n",
       " 'Beltrano José Pereira',\n",
       " 'Ciclano Feliciano Marciano',\n",
       " 'Ildo Vieira Pereira',\n",
       " 'João Ninguém',\n",
       " 'Fulaninha']"
      ]
     },
     "execution_count": 120,
     "metadata": {},
     "output_type": "execute_result"
    }
   ],
   "source": [
    "texto_tratado"
   ]
  },
  {
   "cell_type": "markdown",
   "metadata": {},
   "source": [
    "Agora basta colocar no arquivo de preferência."
   ]
  }
 ],
 "metadata": {
  "kernelspec": {
   "display_name": "Python 3",
   "language": "python",
   "name": "python3"
  },
  "language_info": {
   "codemirror_mode": {
    "name": "ipython",
    "version": 3
   },
   "file_extension": ".py",
   "mimetype": "text/x-python",
   "name": "python",
   "nbconvert_exporter": "python",
   "pygments_lexer": "ipython3",
   "version": "3.7.0"
  }
 },
 "nbformat": 4,
 "nbformat_minor": 2
}
